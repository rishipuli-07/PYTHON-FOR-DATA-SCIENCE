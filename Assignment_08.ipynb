{
  "nbformat": 4,
  "nbformat_minor": 0,
  "metadata": {
    "colab": {
      "provenance": [],
      "authorship_tag": "ABX9TyMGEFxdi8VogEKegSHEbUzT",
      "include_colab_link": true
    },
    "kernelspec": {
      "name": "python3",
      "display_name": "Python 3"
    },
    "language_info": {
      "name": "python"
    }
  },
  "cells": [
    {
      "cell_type": "markdown",
      "metadata": {
        "id": "view-in-github",
        "colab_type": "text"
      },
      "source": [
        "<a href=\"https://colab.research.google.com/github/rishipuli-07/PYTHON-FOR-DATA-SCIENCE/blob/main/Assignment_08.ipynb\" target=\"_parent\"><img src=\"https://colab.research.google.com/assets/colab-badge.svg\" alt=\"Open In Colab\"/></a>"
      ]
    },
    {
      "cell_type": "code",
      "source": [
        "import pandas as pd\n",
        "customers_data = {\n",
        "'customer_id': [101, 102, 103, 104, 105, 106],\n",
        "'name': ['Alice', 'Bob', 'Charlie', 'David', 'Eve', 'Frank'],\n",
        "'region': ['North', 'South', 'North', 'East', 'South', 'West']\n",
        "}\n",
        "customers_df = pd.DataFrame(customers_data)\n",
        "customers_df.to_csv('customers.csv', index=False)\n",
        "sales_data = {\n",
        "'sale_id': range(1, 8),\n",
        "'customer_id': [101, 102, 103, 102, 105, 101, 105],\n",
        "'amount': [150.50, 200.00, 340.10, 55.75, 120.00, 99.99, 300.00]\n",
        "}\n",
        "sales_df = pd.DataFrame(sales_data)\n",
        "sales_df.to_csv('sales.csv', index=False)\n",
        "customers = pd.read_csv('customers.csv')\n",
        "sales = pd.read_csv('sales.csv')\n",
        "print(\"--- Customers Dataset ---\")\n",
        "print(customers)\n",
        "print(\"\\n--- Sales Dataset ---\")\n",
        "print(sales)\n",
        "inner_join_df = pd.merge(customers, sales, on='customer_id', how='inner')\n",
        "print(\"\\n--- Merged Dataset (Inner Join) ---\")\n",
        "print(inner_join_df)\n",
        "left_join_df = pd.merge(customers, sales, on='customer_id', how='left')\n",
        "print(\"\\n--- Merged Dataset (Left Join) ---\")\n",
        "print(left_join_df)\n",
        "total_sales = inner_join_df['amount'].sum()\n",
        "average_sale_value = inner_join_df['amount'].mean()\n",
        "print(\"\\n--- Overall Sales Statistics ---\")\n",
        "print(f\"Total Sales: ${total_sales:,.2f}\")\n",
        "print(f\"Average Sale Value: ${average_sale_value:,.2f}\")\n",
        "sales_per_customer = inner_join_df.groupby('name')['amount'].sum().reset_index()\n",
        "print(\"\\n--- Total Sales Per Customer ---\")\n",
        "print(sales_per_customer.sort_values(by='amount', ascending=False))\n",
        "regional_sales = inner_join_df.groupby('region')['amount'].agg(['sum', 'mean', 'count'])\n",
        "regional_sales = regional_sales.rename(columns={\n",
        "'sum': 'Total Sales',\n",
        "'mean': 'Average Sale',\n",
        "'count': 'Number of Sales'\n",
        "})\n",
        "print(\"\\n--- Aggregate Sales Statistics by Region ---\")\n",
        "i"
      ],
      "metadata": {
        "colab": {
          "base_uri": "https://localhost:8080/",
          "height": 1000
        },
        "id": "dIV5vuMuqD2v",
        "outputId": "fd5edbba-ba2a-4a0a-b2cc-3cbbb0f48d4d"
      },
      "execution_count": 2,
      "outputs": [
        {
          "output_type": "stream",
          "name": "stdout",
          "text": [
            "--- Customers Dataset ---\n",
            "   customer_id     name region\n",
            "0          101    Alice  North\n",
            "1          102      Bob  South\n",
            "2          103  Charlie  North\n",
            "3          104    David   East\n",
            "4          105      Eve  South\n",
            "5          106    Frank   West\n",
            "\n",
            "--- Sales Dataset ---\n",
            "   sale_id  customer_id  amount\n",
            "0        1          101  150.50\n",
            "1        2          102  200.00\n",
            "2        3          103  340.10\n",
            "3        4          102   55.75\n",
            "4        5          105  120.00\n",
            "5        6          101   99.99\n",
            "6        7          105  300.00\n",
            "\n",
            "--- Merged Dataset (Inner Join) ---\n",
            "   customer_id     name region  sale_id  amount\n",
            "0          101    Alice  North        1  150.50\n",
            "1          101    Alice  North        6   99.99\n",
            "2          102      Bob  South        2  200.00\n",
            "3          102      Bob  South        4   55.75\n",
            "4          103  Charlie  North        3  340.10\n",
            "5          105      Eve  South        5  120.00\n",
            "6          105      Eve  South        7  300.00\n",
            "\n",
            "--- Merged Dataset (Left Join) ---\n",
            "   customer_id     name region  sale_id  amount\n",
            "0          101    Alice  North      1.0  150.50\n",
            "1          101    Alice  North      6.0   99.99\n",
            "2          102      Bob  South      2.0  200.00\n",
            "3          102      Bob  South      4.0   55.75\n",
            "4          103  Charlie  North      3.0  340.10\n",
            "5          104    David   East      NaN     NaN\n",
            "6          105      Eve  South      5.0  120.00\n",
            "7          105      Eve  South      7.0  300.00\n",
            "8          106    Frank   West      NaN     NaN\n",
            "\n",
            "--- Overall Sales Statistics ---\n",
            "Total Sales: $1,266.34\n",
            "Average Sale Value: $180.91\n",
            "\n",
            "--- Total Sales Per Customer ---\n",
            "      name  amount\n",
            "3      Eve  420.00\n",
            "2  Charlie  340.10\n",
            "1      Bob  255.75\n",
            "0    Alice  250.49\n",
            "\n",
            "--- Aggregate Sales Statistics by Region ---\n"
          ]
        },
        {
          "output_type": "error",
          "ename": "NameError",
          "evalue": "name 'i' is not defined",
          "traceback": [
            "\u001b[0;31m---------------------------------------------------------------------------\u001b[0m",
            "\u001b[0;31mNameError\u001b[0m                                 Traceback (most recent call last)",
            "\u001b[0;32m/tmp/ipython-input-1350249728.py\u001b[0m in \u001b[0;36m<cell line: 0>\u001b[0;34m()\u001b[0m\n\u001b[1;32m     41\u001b[0m })\n\u001b[1;32m     42\u001b[0m \u001b[0mprint\u001b[0m\u001b[0;34m(\u001b[0m\u001b[0;34m\"\\n--- Aggregate Sales Statistics by Region ---\"\u001b[0m\u001b[0;34m)\u001b[0m\u001b[0;34m\u001b[0m\u001b[0;34m\u001b[0m\u001b[0m\n\u001b[0;32m---> 43\u001b[0;31m \u001b[0mi\u001b[0m\u001b[0;34m\u001b[0m\u001b[0;34m\u001b[0m\u001b[0m\n\u001b[0m",
            "\u001b[0;31mNameError\u001b[0m: name 'i' is not defined"
          ]
        }
      ]
    }
  ]
}